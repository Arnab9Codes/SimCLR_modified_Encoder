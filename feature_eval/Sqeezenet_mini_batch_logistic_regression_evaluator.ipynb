{
  "cells": [
    {
      "cell_type": "markdown",
      "metadata": {
        "colab_type": "text",
        "id": "view-in-github"
      },
      "source": [
        "<a href=\"https://colab.research.google.com/github/sthalles/SimCLR/blob/simclr-refactor/feature_eval/mini_batch_logistic_regression_evaluator.ipynb\" target=\"_parent\"><img src=\"https://colab.research.google.com/assets/colab-badge.svg\" alt=\"Open In Colab\"/></a>"
      ]
    },
    {
      "cell_type": "code",
      "execution_count": 33,
      "metadata": {
        "id": "YUemQib7ZE4D"
      },
      "outputs": [],
      "source": [
        "import torch\n",
        "import sys\n",
        "import numpy as np\n",
        "import os\n",
        "import yaml\n",
        "\n",
        "import matplotlib.pyplot as plt\n",
        "import torchvision\n",
        "import torch.nn as nn"
      ]
    },
    {
      "cell_type": "code",
      "execution_count": 34,
      "metadata": {
        "colab": {
          "base_uri": "https://localhost:8080/"
        },
        "id": "WSgRE1CcLqdS",
        "outputId": "48a2ae15-f672-495b-8d43-9a23b85fa3b8"
      },
      "outputs": [],
      "source": [
        "#!pip install gdown"
      ]
    },
    {
      "cell_type": "code",
      "execution_count": 35,
      "metadata": {},
      "outputs": [
        {
          "name": "stdout",
          "output_type": "stream",
          "text": [
            "Using device: cuda\n"
          ]
        }
      ],
      "source": [
        "device = 'cuda' if torch.cuda.is_available() else 'cpu'\n",
        "print(\"Using device:\", device)"
      ]
    },
    {
      "cell_type": "code",
      "execution_count": 36,
      "metadata": {},
      "outputs": [],
      "source": [
        "model = torchvision.models.squeezenet1_0(pretrained=False)\n",
        "additional_fc_layer = nn.Sequential(nn.Linear(1000, 512), nn.ReLU(), nn.Linear(512, 128))\n",
        "model=nn.Sequential(model, additional_fc_layer).to(device)\n"
      ]
    },
    {
      "cell_type": "code",
      "execution_count": 37,
      "metadata": {},
      "outputs": [
        {
          "data": {
            "text/plain": [
              "Sequential(\n",
              "  (0): SqueezeNet(\n",
              "    (features): Sequential(\n",
              "      (0): Conv2d(3, 96, kernel_size=(7, 7), stride=(2, 2))\n",
              "      (1): ReLU(inplace=True)\n",
              "      (2): MaxPool2d(kernel_size=3, stride=2, padding=0, dilation=1, ceil_mode=True)\n",
              "      (3): Fire(\n",
              "        (squeeze): Conv2d(96, 16, kernel_size=(1, 1), stride=(1, 1))\n",
              "        (squeeze_activation): ReLU(inplace=True)\n",
              "        (expand1x1): Conv2d(16, 64, kernel_size=(1, 1), stride=(1, 1))\n",
              "        (expand1x1_activation): ReLU(inplace=True)\n",
              "        (expand3x3): Conv2d(16, 64, kernel_size=(3, 3), stride=(1, 1), padding=(1, 1))\n",
              "        (expand3x3_activation): ReLU(inplace=True)\n",
              "      )\n",
              "      (4): Fire(\n",
              "        (squeeze): Conv2d(128, 16, kernel_size=(1, 1), stride=(1, 1))\n",
              "        (squeeze_activation): ReLU(inplace=True)\n",
              "        (expand1x1): Conv2d(16, 64, kernel_size=(1, 1), stride=(1, 1))\n",
              "        (expand1x1_activation): ReLU(inplace=True)\n",
              "        (expand3x3): Conv2d(16, 64, kernel_size=(3, 3), stride=(1, 1), padding=(1, 1))\n",
              "        (expand3x3_activation): ReLU(inplace=True)\n",
              "      )\n",
              "      (5): Fire(\n",
              "        (squeeze): Conv2d(128, 32, kernel_size=(1, 1), stride=(1, 1))\n",
              "        (squeeze_activation): ReLU(inplace=True)\n",
              "        (expand1x1): Conv2d(32, 128, kernel_size=(1, 1), stride=(1, 1))\n",
              "        (expand1x1_activation): ReLU(inplace=True)\n",
              "        (expand3x3): Conv2d(32, 128, kernel_size=(3, 3), stride=(1, 1), padding=(1, 1))\n",
              "        (expand3x3_activation): ReLU(inplace=True)\n",
              "      )\n",
              "      (6): MaxPool2d(kernel_size=3, stride=2, padding=0, dilation=1, ceil_mode=True)\n",
              "      (7): Fire(\n",
              "        (squeeze): Conv2d(256, 32, kernel_size=(1, 1), stride=(1, 1))\n",
              "        (squeeze_activation): ReLU(inplace=True)\n",
              "        (expand1x1): Conv2d(32, 128, kernel_size=(1, 1), stride=(1, 1))\n",
              "        (expand1x1_activation): ReLU(inplace=True)\n",
              "        (expand3x3): Conv2d(32, 128, kernel_size=(3, 3), stride=(1, 1), padding=(1, 1))\n",
              "        (expand3x3_activation): ReLU(inplace=True)\n",
              "      )\n",
              "      (8): Fire(\n",
              "        (squeeze): Conv2d(256, 48, kernel_size=(1, 1), stride=(1, 1))\n",
              "        (squeeze_activation): ReLU(inplace=True)\n",
              "        (expand1x1): Conv2d(48, 192, kernel_size=(1, 1), stride=(1, 1))\n",
              "        (expand1x1_activation): ReLU(inplace=True)\n",
              "        (expand3x3): Conv2d(48, 192, kernel_size=(3, 3), stride=(1, 1), padding=(1, 1))\n",
              "        (expand3x3_activation): ReLU(inplace=True)\n",
              "      )\n",
              "      (9): Fire(\n",
              "        (squeeze): Conv2d(384, 48, kernel_size=(1, 1), stride=(1, 1))\n",
              "        (squeeze_activation): ReLU(inplace=True)\n",
              "        (expand1x1): Conv2d(48, 192, kernel_size=(1, 1), stride=(1, 1))\n",
              "        (expand1x1_activation): ReLU(inplace=True)\n",
              "        (expand3x3): Conv2d(48, 192, kernel_size=(3, 3), stride=(1, 1), padding=(1, 1))\n",
              "        (expand3x3_activation): ReLU(inplace=True)\n",
              "      )\n",
              "      (10): Fire(\n",
              "        (squeeze): Conv2d(384, 64, kernel_size=(1, 1), stride=(1, 1))\n",
              "        (squeeze_activation): ReLU(inplace=True)\n",
              "        (expand1x1): Conv2d(64, 256, kernel_size=(1, 1), stride=(1, 1))\n",
              "        (expand1x1_activation): ReLU(inplace=True)\n",
              "        (expand3x3): Conv2d(64, 256, kernel_size=(3, 3), stride=(1, 1), padding=(1, 1))\n",
              "        (expand3x3_activation): ReLU(inplace=True)\n",
              "      )\n",
              "      (11): MaxPool2d(kernel_size=3, stride=2, padding=0, dilation=1, ceil_mode=True)\n",
              "      (12): Fire(\n",
              "        (squeeze): Conv2d(512, 64, kernel_size=(1, 1), stride=(1, 1))\n",
              "        (squeeze_activation): ReLU(inplace=True)\n",
              "        (expand1x1): Conv2d(64, 256, kernel_size=(1, 1), stride=(1, 1))\n",
              "        (expand1x1_activation): ReLU(inplace=True)\n",
              "        (expand3x3): Conv2d(64, 256, kernel_size=(3, 3), stride=(1, 1), padding=(1, 1))\n",
              "        (expand3x3_activation): ReLU(inplace=True)\n",
              "      )\n",
              "    )\n",
              "    (classifier): Sequential(\n",
              "      (0): Dropout(p=0.5, inplace=False)\n",
              "      (1): Conv2d(512, 1000, kernel_size=(1, 1), stride=(1, 1))\n",
              "      (2): ReLU(inplace=True)\n",
              "      (3): AdaptiveAvgPool2d(output_size=(1, 1))\n",
              "    )\n",
              "  )\n",
              "  (1): Sequential(\n",
              "    (0): Linear(in_features=1000, out_features=512, bias=True)\n",
              "    (1): ReLU()\n",
              "    (2): Linear(in_features=512, out_features=128, bias=True)\n",
              "  )\n",
              ")"
            ]
          },
          "execution_count": 37,
          "metadata": {},
          "output_type": "execute_result"
        }
      ],
      "source": [
        "model"
      ]
    },
    {
      "cell_type": "code",
      "execution_count": 38,
      "metadata": {},
      "outputs": [
        {
          "data": {
            "text/plain": [
              "\"for name, param in model.named_parameters():\\n    if not name.startswith('1.'):\\n        param.requires_grad = False\\n        print(name)\\n\\nparameters = list(filter(lambda p: p.requires_grad, model.parameters()))\\n#print(parameters.name)\\nassert len(parameters) == 4  # fc.weight, fc.bias\""
            ]
          },
          "execution_count": 38,
          "metadata": {},
          "output_type": "execute_result"
        }
      ],
      "source": [
        "# freeze all layers but the last fc\n",
        "'''for name, param in model.named_parameters():\n",
        "    if not name.startswith('1.'):\n",
        "        param.requires_grad = False\n",
        "        print(name)\n",
        "\n",
        "parameters = list(filter(lambda p: p.requires_grad, model.parameters()))\n",
        "#print(parameters.name)\n",
        "assert len(parameters) == 4  # fc.weight, fc.bias'''"
      ]
    },
    {
      "cell_type": "code",
      "execution_count": 39,
      "metadata": {
        "id": "NOIJEui1ZziV"
      },
      "outputs": [
        {
          "data": {
            "text/plain": [
              "'def get_file_id_by_model(folder_name):\\n  file_id = {\\'resnet18_100-epochs_stl10\\': \\'14_nH2FkyKbt61cieQDiSbBVNP8-gtwgF\\',\\n             \\'resnet18_100-epochs_cifar10\\': \\'1lc2aoVtrAetGn0PnTkOyFzPCIucOJq7C\\',\\n             \\'resnet50_50-epochs_stl10\\': \\'1ByTKAUsdm_X7tLcii6oAEl5qFRqRMZSu\\'}\\n  return file_id.get(folder_name, \"Model not found.\")'"
            ]
          },
          "execution_count": 39,
          "metadata": {},
          "output_type": "execute_result"
        }
      ],
      "source": [
        "'''def get_file_id_by_model(folder_name):\n",
        "  file_id = {'resnet18_100-epochs_stl10': '14_nH2FkyKbt61cieQDiSbBVNP8-gtwgF',\n",
        "             'resnet18_100-epochs_cifar10': '1lc2aoVtrAetGn0PnTkOyFzPCIucOJq7C',\n",
        "             'resnet50_50-epochs_stl10': '1ByTKAUsdm_X7tLcii6oAEl5qFRqRMZSu'}\n",
        "  return file_id.get(folder_name, \"Model not found.\")'''"
      ]
    },
    {
      "cell_type": "code",
      "execution_count": 40,
      "metadata": {
        "colab": {
          "base_uri": "https://localhost:8080/"
        },
        "id": "G7YMxsvEZMrX",
        "outputId": "59475430-69d2-45a2-b61b-ae755d5d6e88"
      },
      "outputs": [
        {
          "data": {
            "text/plain": [
              "\"folder_name = 'resnet50_50-epochs_stl10'\\nfile_id = get_file_id_by_model(folder_name)\\nprint(folder_name, file_id)\""
            ]
          },
          "execution_count": 40,
          "metadata": {},
          "output_type": "execute_result"
        }
      ],
      "source": [
        "'''folder_name = 'resnet50_50-epochs_stl10'\n",
        "file_id = get_file_id_by_model(folder_name)\n",
        "print(folder_name, file_id)'''"
      ]
    },
    {
      "cell_type": "code",
      "execution_count": 41,
      "metadata": {
        "colab": {
          "base_uri": "https://localhost:8080/"
        },
        "id": "PWZ8fet_YoJm",
        "outputId": "fbaeb858-221b-4d1b-dd90-001a6e713b75"
      },
      "outputs": [],
      "source": [
        "# download and extract model files\n",
        "#os.system('gdown https://drive.google.com/uc?id={}'.format(file_id))\n",
        "#os.system('unzip {}'.format(folder_name))\n",
        "#!ls"
      ]
    },
    {
      "cell_type": "code",
      "execution_count": 42,
      "metadata": {},
      "outputs": [
        {
          "data": {
            "text/plain": [
              "'import zipfile\\nimport os\\n\\nzip_file = \"resnet50_50-epochs_stl10.zip\"\\n\\n# Get the current directory where the ZIP file is located\\ncurrent_directory = os.path.dirname(os.path.abspath(zip_file))\\n\\n# Open the ZIP file for reading\\nwith zipfile.ZipFile(zip_file, \\'r\\') as zip_ref:\\n    # Extract all the contents into the same folder\\n    zip_ref.extractall(current_directory)\\n'"
            ]
          },
          "execution_count": 42,
          "metadata": {},
          "output_type": "execute_result"
        }
      ],
      "source": [
        "'''import zipfile\n",
        "import os\n",
        "\n",
        "zip_file = \"resnet50_50-epochs_stl10.zip\"\n",
        "\n",
        "# Get the current directory where the ZIP file is located\n",
        "current_directory = os.path.dirname(os.path.abspath(zip_file))\n",
        "\n",
        "# Open the ZIP file for reading\n",
        "with zipfile.ZipFile(zip_file, 'r') as zip_ref:\n",
        "    # Extract all the contents into the same folder\n",
        "    zip_ref.extractall(current_directory)\n",
        "'''\n"
      ]
    },
    {
      "cell_type": "code",
      "execution_count": 43,
      "metadata": {},
      "outputs": [
        {
          "name": "stdout",
          "output_type": "stream",
          "text": [
            "checkpoint_0005.pth.tar\n",
            "checkpoint_0040.pth.tar\n",
            "config.yml\n",
            "data\n",
            "events.out.tfevents.1610927742.4cb2c837708d.2694093.0\n",
            "mini_batch_logistic_regression_evaluator.ipynb\n",
            "squeeze_checkpoint_0100.pth.tar\n",
            "squeezenet_checkpoint_0001.pth.tar\n",
            "squeezenet_checkpoint_0100.pth.tar\n",
            "training.log\n"
          ]
        }
      ],
      "source": [
        "!ls"
      ]
    },
    {
      "cell_type": "code",
      "execution_count": 44,
      "metadata": {},
      "outputs": [
        {
          "data": {
            "text/plain": [
              "'import os\\n\\nzip_file = \"resnet50_50-epochs_stl10.zip\"\\n\\n# Get the size of the ZIP file in bytes\\nfile_size_bytes = os.path.getsize(zip_file)\\n\\n# Convert bytes to a human-readable format (e.g., kilobytes, megabytes, etc.)\\ndef convert_size(size_bytes):\\n    # Size conversion\\n    for unit in [\\'bytes\\', \\'KB\\', \\'MB\\', \\'GB\\', \\'TB\\']:\\n        if size_bytes < 1024.0:\\n            return f\"{size_bytes:.2f} {unit}\"\\n        size_bytes /= 1024.0\\n\\n# Get human-readable file size\\nfile_size_human_readable = convert_size(file_size_bytes)\\n\\nprint(f\"The size of \\'{zip_file}\\' is: {file_size_human_readable}\")\\n'"
            ]
          },
          "execution_count": 44,
          "metadata": {},
          "output_type": "execute_result"
        }
      ],
      "source": [
        "'''import os\n",
        "\n",
        "zip_file = \"resnet50_50-epochs_stl10.zip\"\n",
        "\n",
        "# Get the size of the ZIP file in bytes\n",
        "file_size_bytes = os.path.getsize(zip_file)\n",
        "\n",
        "# Convert bytes to a human-readable format (e.g., kilobytes, megabytes, etc.)\n",
        "def convert_size(size_bytes):\n",
        "    # Size conversion\n",
        "    for unit in ['bytes', 'KB', 'MB', 'GB', 'TB']:\n",
        "        if size_bytes < 1024.0:\n",
        "            return f\"{size_bytes:.2f} {unit}\"\n",
        "        size_bytes /= 1024.0\n",
        "\n",
        "# Get human-readable file size\n",
        "file_size_human_readable = convert_size(file_size_bytes)\n",
        "\n",
        "print(f\"The size of '{zip_file}' is: {file_size_human_readable}\")\n",
        "'''"
      ]
    },
    {
      "cell_type": "code",
      "execution_count": 45,
      "metadata": {
        "id": "3_nypQVEv-hn"
      },
      "outputs": [],
      "source": [
        "from torch.utils.data import DataLoader\n",
        "import torchvision.transforms as transforms\n",
        "from torchvision import datasets"
      ]
    },
    {
      "cell_type": "code",
      "execution_count": 46,
      "metadata": {
        "id": "BfIPl0G6_RrT"
      },
      "outputs": [],
      "source": [
        "def get_stl10_data_loaders(download, shuffle=False, batch_size=256):\n",
        "  train_dataset = datasets.STL10('./data', split='train', download=download,\n",
        "                                  transform=transforms.ToTensor())\n",
        "\n",
        "  train_loader = DataLoader(train_dataset, batch_size=batch_size,\n",
        "                            num_workers=0, drop_last=False, shuffle=shuffle)\n",
        "  \n",
        "  test_dataset = datasets.STL10('./data', split='test', download=download,\n",
        "                                  transform=transforms.ToTensor())\n",
        "\n",
        "  test_loader = DataLoader(test_dataset, batch_size=2*batch_size,\n",
        "                            num_workers=10, drop_last=False, shuffle=shuffle)\n",
        "  return train_loader, test_loader\n",
        "\n",
        "def get_cifar10_data_loaders(download, shuffle=False, batch_size=256):\n",
        "  train_dataset = datasets.CIFAR10('./data', train=True, download=download,\n",
        "                                  transform=transforms.ToTensor())\n",
        "\n",
        "  train_loader = DataLoader(train_dataset, batch_size=batch_size,\n",
        "                            num_workers=0, drop_last=False, shuffle=shuffle)\n",
        "  \n",
        "  test_dataset = datasets.CIFAR10('./data', train=False, download=download,\n",
        "                                  transform=transforms.ToTensor())\n",
        "\n",
        "  test_loader = DataLoader(test_dataset, batch_size=2*batch_size,\n",
        "                            num_workers=10, drop_last=False, shuffle=shuffle)\n",
        "  return train_loader, test_loader"
      ]
    },
    {
      "cell_type": "code",
      "execution_count": 47,
      "metadata": {
        "id": "6N8lYkbmDTaK"
      },
      "outputs": [],
      "source": [
        "with open(os.path.join('./config.yml')) as file:\n",
        "  config = yaml.load(file, Loader=yaml.FullLoader)"
      ]
    },
    {
      "cell_type": "code",
      "execution_count": 48,
      "metadata": {
        "id": "a18lPD-tIle6"
      },
      "outputs": [
        {
          "data": {
            "text/plain": [
              "'if config[\\'arch\\'] == \\'resnet18\\':\\n  model = torchvision.models.resnet18(pretrained=False, num_classes=10).to(device)\\nelif config[\\'arch\\'] == \\'resnet50\\':\\n  model = torchvision.models.resnet50(pretrained=False, num_classes=10).to(device)\\nelif config[\\'arch\\'] == \\'squeezenet\\':\\n  print(\"squeezenet\")\\n  model = torchvision.models.squeezenet1_0(pretrained=False).to(device).to(device)\\n  # or use squeezenet1_1 depending on the version you want'"
            ]
          },
          "execution_count": 48,
          "metadata": {},
          "output_type": "execute_result"
        }
      ],
      "source": [
        "'''if config['arch'] == 'resnet18':\n",
        "  model = torchvision.models.resnet18(pretrained=False, num_classes=10).to(device)\n",
        "elif config['arch'] == 'resnet50':\n",
        "  model = torchvision.models.resnet50(pretrained=False, num_classes=10).to(device)\n",
        "elif config['arch'] == 'squeezenet':\n",
        "  print(\"squeezenet\")\n",
        "  model = torchvision.models.squeezenet1_0(pretrained=False).to(device).to(device)\n",
        "  # or use squeezenet1_1 depending on the version you want'''"
      ]
    },
    {
      "cell_type": "code",
      "execution_count": 49,
      "metadata": {},
      "outputs": [
        {
          "data": {
            "text/plain": [
              "'rmodel=model = torchvision.models.resnet18(pretrained=False).to(device)\\nrmodel'"
            ]
          },
          "execution_count": 49,
          "metadata": {},
          "output_type": "execute_result"
        }
      ],
      "source": [
        "'''rmodel=model = torchvision.models.resnet18(pretrained=False).to(device)\n",
        "rmodel'''"
      ]
    },
    {
      "cell_type": "code",
      "execution_count": 50,
      "metadata": {},
      "outputs": [
        {
          "name": "stdout",
          "output_type": "stream",
          "text": [
            "odict_keys(['backbone.0.features.0.weight', 'backbone.0.features.0.bias', 'backbone.0.features.3.squeeze.weight', 'backbone.0.features.3.squeeze.bias', 'backbone.0.features.3.expand1x1.weight', 'backbone.0.features.3.expand1x1.bias', 'backbone.0.features.3.expand3x3.weight', 'backbone.0.features.3.expand3x3.bias', 'backbone.0.features.4.squeeze.weight', 'backbone.0.features.4.squeeze.bias', 'backbone.0.features.4.expand1x1.weight', 'backbone.0.features.4.expand1x1.bias', 'backbone.0.features.4.expand3x3.weight', 'backbone.0.features.4.expand3x3.bias', 'backbone.0.features.5.squeeze.weight', 'backbone.0.features.5.squeeze.bias', 'backbone.0.features.5.expand1x1.weight', 'backbone.0.features.5.expand1x1.bias', 'backbone.0.features.5.expand3x3.weight', 'backbone.0.features.5.expand3x3.bias', 'backbone.0.features.7.squeeze.weight', 'backbone.0.features.7.squeeze.bias', 'backbone.0.features.7.expand1x1.weight', 'backbone.0.features.7.expand1x1.bias', 'backbone.0.features.7.expand3x3.weight', 'backbone.0.features.7.expand3x3.bias', 'backbone.0.features.8.squeeze.weight', 'backbone.0.features.8.squeeze.bias', 'backbone.0.features.8.expand1x1.weight', 'backbone.0.features.8.expand1x1.bias', 'backbone.0.features.8.expand3x3.weight', 'backbone.0.features.8.expand3x3.bias', 'backbone.0.features.9.squeeze.weight', 'backbone.0.features.9.squeeze.bias', 'backbone.0.features.9.expand1x1.weight', 'backbone.0.features.9.expand1x1.bias', 'backbone.0.features.9.expand3x3.weight', 'backbone.0.features.9.expand3x3.bias', 'backbone.0.features.10.squeeze.weight', 'backbone.0.features.10.squeeze.bias', 'backbone.0.features.10.expand1x1.weight', 'backbone.0.features.10.expand1x1.bias', 'backbone.0.features.10.expand3x3.weight', 'backbone.0.features.10.expand3x3.bias', 'backbone.0.features.12.squeeze.weight', 'backbone.0.features.12.squeeze.bias', 'backbone.0.features.12.expand1x1.weight', 'backbone.0.features.12.expand1x1.bias', 'backbone.0.features.12.expand3x3.weight', 'backbone.0.features.12.expand3x3.bias', 'backbone.0.classifier.1.weight', 'backbone.0.classifier.1.bias', 'backbone.1.0.weight', 'backbone.1.0.bias', 'backbone.1.2.weight', 'backbone.1.2.bias'])\n"
          ]
        }
      ],
      "source": [
        "checkpoint = torch.load('squeezenet_checkpoint_0100.pth.tar', map_location=device)\n",
        "state_dict = checkpoint['state_dict']\n",
        "print(state_dict.keys())"
      ]
    },
    {
      "cell_type": "code",
      "execution_count": 51,
      "metadata": {},
      "outputs": [
        {
          "name": "stdout",
          "output_type": "stream",
          "text": [
            "56\n"
          ]
        }
      ],
      "source": [
        "print(len(state_dict.keys()))"
      ]
    },
    {
      "cell_type": "code",
      "execution_count": 52,
      "metadata": {
        "id": "4AIfgq41GuTT"
      },
      "outputs": [
        {
          "name": "stdout",
          "output_type": "stream",
          "text": [
            "backbone.0.features.0.weight\n",
            "backbone.0.features.0.bias\n",
            "backbone.0.features.3.squeeze.weight\n",
            "backbone.0.features.3.squeeze.bias\n",
            "backbone.0.features.3.expand1x1.weight\n",
            "backbone.0.features.3.expand1x1.bias\n",
            "backbone.0.features.3.expand3x3.weight\n",
            "backbone.0.features.3.expand3x3.bias\n",
            "backbone.0.features.4.squeeze.weight\n",
            "backbone.0.features.4.squeeze.bias\n",
            "backbone.0.features.4.expand1x1.weight\n",
            "backbone.0.features.4.expand1x1.bias\n",
            "backbone.0.features.4.expand3x3.weight\n",
            "backbone.0.features.4.expand3x3.bias\n",
            "backbone.0.features.5.squeeze.weight\n",
            "backbone.0.features.5.squeeze.bias\n",
            "backbone.0.features.5.expand1x1.weight\n",
            "backbone.0.features.5.expand1x1.bias\n",
            "backbone.0.features.5.expand3x3.weight\n",
            "backbone.0.features.5.expand3x3.bias\n",
            "backbone.0.features.7.squeeze.weight\n",
            "backbone.0.features.7.squeeze.bias\n",
            "backbone.0.features.7.expand1x1.weight\n",
            "backbone.0.features.7.expand1x1.bias\n",
            "backbone.0.features.7.expand3x3.weight\n",
            "backbone.0.features.7.expand3x3.bias\n",
            "backbone.0.features.8.squeeze.weight\n",
            "backbone.0.features.8.squeeze.bias\n",
            "backbone.0.features.8.expand1x1.weight\n",
            "backbone.0.features.8.expand1x1.bias\n",
            "backbone.0.features.8.expand3x3.weight\n",
            "backbone.0.features.8.expand3x3.bias\n",
            "backbone.0.features.9.squeeze.weight\n",
            "backbone.0.features.9.squeeze.bias\n",
            "backbone.0.features.9.expand1x1.weight\n",
            "backbone.0.features.9.expand1x1.bias\n",
            "backbone.0.features.9.expand3x3.weight\n",
            "backbone.0.features.9.expand3x3.bias\n",
            "backbone.0.features.10.squeeze.weight\n",
            "backbone.0.features.10.squeeze.bias\n",
            "backbone.0.features.10.expand1x1.weight\n",
            "backbone.0.features.10.expand1x1.bias\n",
            "backbone.0.features.10.expand3x3.weight\n",
            "backbone.0.features.10.expand3x3.bias\n",
            "backbone.0.features.12.squeeze.weight\n",
            "backbone.0.features.12.squeeze.bias\n",
            "backbone.0.features.12.expand1x1.weight\n",
            "backbone.0.features.12.expand1x1.bias\n",
            "backbone.0.features.12.expand3x3.weight\n",
            "backbone.0.features.12.expand3x3.bias\n",
            "backbone.0.classifier.1.weight\n",
            "backbone.0.classifier.1.bias\n",
            "backbone.1.0.weight\n",
            "backbone.1.0.bias\n",
            "backbone.1.2.weight\n",
            "backbone.1.2.bias\n"
          ]
        }
      ],
      "source": [
        "#checkpoint = torch.load('checkpoint_0040.pth.tar', map_location=device)\n",
        "checkpoint = torch.load('squeezenet_checkpoint_0001.pth.tar', map_location=device)\n",
        "state_dict = checkpoint['state_dict']\n",
        "\n",
        "for k in list(state_dict.keys()):\n",
        "\n",
        "  if k.startswith('backbone.'):\n",
        "    #print(\"yes\")\n",
        "    if k.startswith('backbone') and not k.startswith('backbone.fc'):\n",
        "      print(k)\n",
        "      # remove prefix\n",
        "      state_dict[k[len(\"backbone.\"):]] = state_dict[k]\n",
        "\n",
        "  del state_dict[k]"
      ]
    },
    {
      "cell_type": "code",
      "execution_count": 53,
      "metadata": {},
      "outputs": [
        {
          "name": "stdout",
          "output_type": "stream",
          "text": [
            "56\n"
          ]
        }
      ],
      "source": [
        "print(len(state_dict.keys()))"
      ]
    },
    {
      "cell_type": "code",
      "execution_count": 54,
      "metadata": {
        "id": "VVjA83PPJYWl"
      },
      "outputs": [],
      "source": [
        "log = model.load_state_dict(state_dict, strict=False)\n",
        "#assert log.missing_keys == ['fc.weight', 'fc.bias']"
      ]
    },
    {
      "cell_type": "code",
      "execution_count": 55,
      "metadata": {},
      "outputs": [
        {
          "data": {
            "text/plain": [
              "<All keys matched successfully>"
            ]
          },
          "execution_count": 55,
          "metadata": {},
          "output_type": "execute_result"
        }
      ],
      "source": [
        "log"
      ]
    },
    {
      "cell_type": "code",
      "execution_count": 56,
      "metadata": {},
      "outputs": [],
      "source": [
        "#additional_fc_layer = torch.nn.Linear(1000, 10)\n",
        "\n",
        "# Access the existing classifier and add the additional FC layer\n",
        "#model.classifier.add_module('fc', additional_fc_layer)"
      ]
    },
    {
      "cell_type": "code",
      "execution_count": 57,
      "metadata": {
        "colab": {
          "base_uri": "https://localhost:8080/",
          "height": 117,
          "referenced_widgets": [
            "149b9ce8fb68473a837a77431c12281a",
            "88cd3db2831e4c13a4a634709700d6b2",
            "a88c31d74f5c40a2b24bcff5a35d216c",
            "60c6150177694717a622936b830427b5",
            "dba019efadee4fdc8c799f309b9a7e70",
            "5901c2829a554c8ebbd5926610088041",
            "957362a11d174407979cf17012bf9208",
            "a4f82234388e4701a02a9f68a177193a"
          ]
        },
        "id": "_GC0a14uWRr6",
        "outputId": "4c2558db-921c-425e-f947-6cc746d8c749"
      },
      "outputs": [
        {
          "name": "stdout",
          "output_type": "stream",
          "text": [
            "Files already downloaded and verified\n",
            "Files already downloaded and verified\n",
            "Dataset: stl10\n"
          ]
        }
      ],
      "source": [
        "if config['dataset_name'] == 'cifar10':\n",
        "  train_loader, test_loader = get_cifar10_data_loaders(download=True)\n",
        "elif config['dataset_name'] == 'stl10':\n",
        "  train_loader, test_loader = get_stl10_data_loaders(download=True)\n",
        "print(\"Dataset:\", config['dataset_name'])"
      ]
    },
    {
      "cell_type": "code",
      "execution_count": 58,
      "metadata": {
        "id": "pYT_KsM0Mnnr"
      },
      "outputs": [
        {
          "data": {
            "text/plain": [
              "\"for name, param in model.named_parameters():\\n    if name not in ['fc.weight', 'fc.bias']:\\n        param.requires_grad = False\\n\\nparameters = list(filter(lambda p: p.requires_grad, model.parameters()))\\nprint(parameters)\\nassert len(parameters) == 2  # fc.weight, fc.bias\""
            ]
          },
          "execution_count": 58,
          "metadata": {},
          "output_type": "execute_result"
        }
      ],
      "source": [
        "# freeze all layers but the last fc\n",
        "'''for name, param in model.named_parameters():\n",
        "    if name not in ['fc.weight', 'fc.bias']:\n",
        "        param.requires_grad = False\n",
        "\n",
        "parameters = list(filter(lambda p: p.requires_grad, model.parameters()))\n",
        "print(parameters)\n",
        "assert len(parameters) == 2  # fc.weight, fc.bias'''"
      ]
    },
    {
      "cell_type": "code",
      "execution_count": 61,
      "metadata": {},
      "outputs": [
        {
          "name": "stdout",
          "output_type": "stream",
          "text": [
            "0.features.0.weight\n",
            "0.features.0.bias\n",
            "0.features.3.squeeze.weight\n",
            "0.features.3.squeeze.bias\n",
            "0.features.3.expand1x1.weight\n",
            "0.features.3.expand1x1.bias\n",
            "0.features.3.expand3x3.weight\n",
            "0.features.3.expand3x3.bias\n",
            "0.features.4.squeeze.weight\n",
            "0.features.4.squeeze.bias\n",
            "0.features.4.expand1x1.weight\n",
            "0.features.4.expand1x1.bias\n",
            "0.features.4.expand3x3.weight\n",
            "0.features.4.expand3x3.bias\n",
            "0.features.5.squeeze.weight\n",
            "0.features.5.squeeze.bias\n",
            "0.features.5.expand1x1.weight\n",
            "0.features.5.expand1x1.bias\n",
            "0.features.5.expand3x3.weight\n",
            "0.features.5.expand3x3.bias\n",
            "0.features.7.squeeze.weight\n",
            "0.features.7.squeeze.bias\n",
            "0.features.7.expand1x1.weight\n",
            "0.features.7.expand1x1.bias\n",
            "0.features.7.expand3x3.weight\n",
            "0.features.7.expand3x3.bias\n",
            "0.features.8.squeeze.weight\n",
            "0.features.8.squeeze.bias\n",
            "0.features.8.expand1x1.weight\n",
            "0.features.8.expand1x1.bias\n",
            "0.features.8.expand3x3.weight\n",
            "0.features.8.expand3x3.bias\n",
            "0.features.9.squeeze.weight\n",
            "0.features.9.squeeze.bias\n",
            "0.features.9.expand1x1.weight\n",
            "0.features.9.expand1x1.bias\n",
            "0.features.9.expand3x3.weight\n",
            "0.features.9.expand3x3.bias\n",
            "0.features.10.squeeze.weight\n",
            "0.features.10.squeeze.bias\n",
            "0.features.10.expand1x1.weight\n",
            "0.features.10.expand1x1.bias\n",
            "0.features.10.expand3x3.weight\n",
            "0.features.10.expand3x3.bias\n",
            "0.features.12.squeeze.weight\n",
            "0.features.12.squeeze.bias\n",
            "0.features.12.expand1x1.weight\n",
            "0.features.12.expand1x1.bias\n",
            "0.features.12.expand3x3.weight\n",
            "0.features.12.expand3x3.bias\n",
            "0.classifier.1.weight\n",
            "0.classifier.1.bias\n",
            "1.0.weight\n",
            "1.0.bias\n"
          ]
        }
      ],
      "source": [
        "# freeze all layers but the last fc\n",
        "for name, param in model.named_parameters():\n",
        "    if not name.startswith('1.2'):\n",
        "        param.requires_grad = False\n",
        "        print(name)\n",
        "\n",
        "parameters = list(filter(lambda p: p.requires_grad, model.parameters()))\n",
        "#print(parameters.name)\n",
        "assert len(parameters) == 2  # fc.weight, fc.bias"
      ]
    },
    {
      "cell_type": "code",
      "execution_count": 62,
      "metadata": {},
      "outputs": [
        {
          "data": {
            "text/plain": [
              "torch.Size([128])"
            ]
          },
          "execution_count": 62,
          "metadata": {},
          "output_type": "execute_result"
        }
      ],
      "source": [
        "parameters[0].shape;\n",
        "parameters[1].shape"
      ]
    },
    {
      "cell_type": "code",
      "execution_count": 63,
      "metadata": {
        "id": "aPVh1S_eMRDU"
      },
      "outputs": [],
      "source": [
        "optimizer = torch.optim.Adam(model.parameters(), lr=3e-4, weight_decay=0.0008)\n",
        "criterion = torch.nn.CrossEntropyLoss().to(device)"
      ]
    },
    {
      "cell_type": "code",
      "execution_count": 64,
      "metadata": {
        "id": "edr6RhP2PdVq"
      },
      "outputs": [],
      "source": [
        "def accuracy(output, target, topk=(1,)):\n",
        "    \"\"\"Computes the accuracy over the k top predictions for the specified values of k\"\"\"\n",
        "    with torch.no_grad():\n",
        "        maxk = max(topk)\n",
        "        batch_size = target.size(0)\n",
        "\n",
        "        _, pred = output.topk(maxk, 1, True, True)\n",
        "        pred = pred.t()\n",
        "        correct = pred.eq(target.view(1, -1).expand_as(pred))\n",
        "\n",
        "        res = []\n",
        "        for k in topk:\n",
        "            correct_k = correct[:k].reshape(-1).float().sum(0, keepdim=True)\n",
        "            res.append(correct_k.mul_(100.0 / batch_size))\n",
        "        return res"
      ]
    },
    {
      "cell_type": "code",
      "execution_count": 65,
      "metadata": {
        "colab": {
          "base_uri": "https://localhost:8080/"
        },
        "id": "qOder0dAMI7X",
        "outputId": "5f723b91-5a5e-43eb-ca01-a9b5ae2f1346"
      },
      "outputs": [
        {
          "name": "stdout",
          "output_type": "stream",
          "text": [
            "Epoch 0\tTop1 Train accuracy 8.990118980407715\tTop1 Test accuracy: 10.07080078125\tTop5 test acc: 50.1708984375\n",
            "Epoch 1\tTop1 Train accuracy 10.042510032653809\tTop1 Test accuracy: 10.51025390625\tTop5 test acc: 54.9755859375\n",
            "Epoch 2\tTop1 Train accuracy 14.1475191116333\tTop1 Test accuracy: 19.47265625\tTop5 test acc: 65.31494140625\n",
            "Epoch 3\tTop1 Train accuracy 20.54917335510254\tTop1 Test accuracy: 21.49658203125\tTop5 test acc: 74.40673828125\n",
            "Epoch 4\tTop1 Train accuracy 22.03929328918457\tTop1 Test accuracy: 22.67578125\tTop5 test acc: 79.31640625\n",
            "Epoch 5\tTop1 Train accuracy 23.59145164489746\tTop1 Test accuracy: 24.47509765625\tTop5 test acc: 80.791015625\n",
            "Epoch 6\tTop1 Train accuracy 24.9609375\tTop1 Test accuracy: 25.8154296875\tTop5 test acc: 82.080078125\n",
            "Epoch 7\tTop1 Train accuracy 26.965763092041016\tTop1 Test accuracy: 27.177734375\tTop5 test acc: 83.22021484375\n",
            "Epoch 8\tTop1 Train accuracy 28.215763092041016\tTop1 Test accuracy: 28.48876953125\tTop5 test acc: 84.53125\n",
            "Epoch 9\tTop1 Train accuracy 29.124540328979492\tTop1 Test accuracy: 28.85986328125\tTop5 test acc: 85.3955078125\n",
            "Epoch 10\tTop1 Train accuracy 29.571460723876953\tTop1 Test accuracy: 29.8486328125\tTop5 test acc: 85.44189453125\n",
            "Epoch 11\tTop1 Train accuracy 30.1309757232666\tTop1 Test accuracy: 29.96337890625\tTop5 test acc: 86.05224609375\n",
            "Epoch 12\tTop1 Train accuracy 30.519302368164062\tTop1 Test accuracy: 31.11328125\tTop5 test acc: 86.025390625\n",
            "Epoch 13\tTop1 Train accuracy 31.042051315307617\tTop1 Test accuracy: 31.7822265625\tTop5 test acc: 86.4013671875\n",
            "Epoch 14\tTop1 Train accuracy 31.3028507232666\tTop1 Test accuracy: 32.1630859375\tTop5 test acc: 86.31103515625\n",
            "Epoch 15\tTop1 Train accuracy 31.710708618164062\tTop1 Test accuracy: 32.33154296875\tTop5 test acc: 86.5087890625\n",
            "Epoch 16\tTop1 Train accuracy 31.85776710510254\tTop1 Test accuracy: 32.72705078125\tTop5 test acc: 86.796875\n",
            "Epoch 17\tTop1 Train accuracy 31.984146118164062\tTop1 Test accuracy: 33.1005859375\tTop5 test acc: 86.3232421875\n",
            "Epoch 18\tTop1 Train accuracy 32.20703125\tTop1 Test accuracy: 33.31298828125\tTop5 test acc: 86.6015625\n",
            "Epoch 19\tTop1 Train accuracy 32.352943420410156\tTop1 Test accuracy: 33.16162109375\tTop5 test acc: 86.8798828125\n",
            "Epoch 20\tTop1 Train accuracy 32.56089401245117\tTop1 Test accuracy: 33.7353515625\tTop5 test acc: 86.5283203125\n",
            "Epoch 21\tTop1 Train accuracy 32.32651901245117\tTop1 Test accuracy: 33.6328125\tTop5 test acc: 86.79931640625\n",
            "Epoch 22\tTop1 Train accuracy 32.50459671020508\tTop1 Test accuracy: 33.85498046875\tTop5 test acc: 86.5625\n",
            "Epoch 23\tTop1 Train accuracy 32.40694046020508\tTop1 Test accuracy: 33.505859375\tTop5 test acc: 86.689453125\n",
            "Epoch 24\tTop1 Train accuracy 33.14683151245117\tTop1 Test accuracy: 33.91357421875\tTop5 test acc: 87.02392578125\n",
            "Epoch 25\tTop1 Train accuracy 33.278953552246094\tTop1 Test accuracy: 33.5205078125\tTop5 test acc: 86.90185546875\n",
            "Epoch 26\tTop1 Train accuracy 32.6171875\tTop1 Test accuracy: 33.98681640625\tTop5 test acc: 87.12646484375\n",
            "Epoch 27\tTop1 Train accuracy 33.14683151245117\tTop1 Test accuracy: 33.99169921875\tTop5 test acc: 86.8115234375\n",
            "Epoch 28\tTop1 Train accuracy 32.890625\tTop1 Test accuracy: 33.65478515625\tTop5 test acc: 87.07763671875\n",
            "Epoch 29\tTop1 Train accuracy 33.02734375\tTop1 Test accuracy: 34.04296875\tTop5 test acc: 86.9677734375\n",
            "Epoch 30\tTop1 Train accuracy 33.12040328979492\tTop1 Test accuracy: 33.9794921875\tTop5 test acc: 87.35107421875\n",
            "Epoch 31\tTop1 Train accuracy 33.025047302246094\tTop1 Test accuracy: 33.955078125\tTop5 test acc: 87.08251953125\n",
            "Epoch 32\tTop1 Train accuracy 33.170955657958984\tTop1 Test accuracy: 33.67431640625\tTop5 test acc: 87.0751953125\n",
            "Epoch 33\tTop1 Train accuracy 33.49609375\tTop1 Test accuracy: 34.0087890625\tTop5 test acc: 87.06787109375\n",
            "Epoch 34\tTop1 Train accuracy 33.2421875\tTop1 Test accuracy: 33.798828125\tTop5 test acc: 87.34619140625\n",
            "Epoch 35\tTop1 Train accuracy 32.79756546020508\tTop1 Test accuracy: 33.88671875\tTop5 test acc: 87.333984375\n",
            "Epoch 36\tTop1 Train accuracy 32.95381546020508\tTop1 Test accuracy: 33.876953125\tTop5 test acc: 87.1875\n",
            "Epoch 37\tTop1 Train accuracy 33.103172302246094\tTop1 Test accuracy: 33.88427734375\tTop5 test acc: 87.23388671875\n",
            "Epoch 38\tTop1 Train accuracy 33.14683151245117\tTop1 Test accuracy: 33.7109375\tTop5 test acc: 87.3828125\n",
            "Epoch 39\tTop1 Train accuracy 33.20542526245117\tTop1 Test accuracy: 33.9306640625\tTop5 test acc: 87.216796875\n",
            "Epoch 40\tTop1 Train accuracy 33.220359802246094\tTop1 Test accuracy: 33.79638671875\tTop5 test acc: 87.19970703125\n",
            "Epoch 41\tTop1 Train accuracy 32.97105026245117\tTop1 Test accuracy: 34.15283203125\tTop5 test acc: 87.2607421875\n",
            "Epoch 42\tTop1 Train accuracy 33.239891052246094\tTop1 Test accuracy: 33.837890625\tTop5 test acc: 87.11669921875\n",
            "Epoch 43\tTop1 Train accuracy 33.435203552246094\tTop1 Test accuracy: 33.85009765625\tTop5 test acc: 87.48291015625\n",
            "Epoch 44\tTop1 Train accuracy 33.19852828979492\tTop1 Test accuracy: 34.0673828125\tTop5 test acc: 87.5048828125\n",
            "Epoch 45\tTop1 Train accuracy 32.99287796020508\tTop1 Test accuracy: 33.7744140625\tTop5 test acc: 87.2802734375\n",
            "Epoch 46\tTop1 Train accuracy 33.411075592041016\tTop1 Test accuracy: 34.09912109375\tTop5 test acc: 87.20458984375\n",
            "Epoch 47\tTop1 Train accuracy 33.18819046020508\tTop1 Test accuracy: 33.7646484375\tTop5 test acc: 87.24853515625\n",
            "Epoch 48\tTop1 Train accuracy 33.58915328979492\tTop1 Test accuracy: 33.96240234375\tTop5 test acc: 87.35107421875\n",
            "Epoch 49\tTop1 Train accuracy 33.376609802246094\tTop1 Test accuracy: 33.89892578125\tTop5 test acc: 87.4755859375\n",
            "Epoch 50\tTop1 Train accuracy 33.259422302246094\tTop1 Test accuracy: 34.03076171875\tTop5 test acc: 87.32421875\n",
            "Epoch 51\tTop1 Train accuracy 33.55009078979492\tTop1 Test accuracy: 33.9453125\tTop5 test acc: 87.59033203125\n",
            "Epoch 52\tTop1 Train accuracy 33.10546875\tTop1 Test accuracy: 34.16748046875\tTop5 test acc: 87.44140625\n",
            "Epoch 53\tTop1 Train accuracy 33.352481842041016\tTop1 Test accuracy: 33.8623046875\tTop5 test acc: 87.33642578125\n",
            "Epoch 54\tTop1 Train accuracy 33.552391052246094\tTop1 Test accuracy: 33.8671875\tTop5 test acc: 87.3388671875\n",
            "Epoch 55\tTop1 Train accuracy 33.55009078979492\tTop1 Test accuracy: 34.013671875\tTop5 test acc: 87.578125\n",
            "Epoch 56\tTop1 Train accuracy 33.32261276245117\tTop1 Test accuracy: 33.80859375\tTop5 test acc: 87.33154296875\n",
            "Epoch 57\tTop1 Train accuracy 33.645450592041016\tTop1 Test accuracy: 33.818359375\tTop5 test acc: 87.353515625\n",
            "Epoch 58\tTop1 Train accuracy 33.181297302246094\tTop1 Test accuracy: 33.75244140625\tTop5 test acc: 87.3681640625\n",
            "Epoch 59\tTop1 Train accuracy 33.669578552246094\tTop1 Test accuracy: 33.94775390625\tTop5 test acc: 87.40966796875\n",
            "Epoch 60\tTop1 Train accuracy 33.3203125\tTop1 Test accuracy: 34.01123046875\tTop5 test acc: 87.2998046875\n",
            "Epoch 61\tTop1 Train accuracy 33.12730026245117\tTop1 Test accuracy: 33.90380859375\tTop5 test acc: 87.64404296875\n",
            "Epoch 62\tTop1 Train accuracy 33.650047302246094\tTop1 Test accuracy: 33.91357421875\tTop5 test acc: 87.52197265625\n",
            "Epoch 63\tTop1 Train accuracy 33.50069046020508\tTop1 Test accuracy: 33.96240234375\tTop5 test acc: 87.44873046875\n",
            "Epoch 64\tTop1 Train accuracy 33.1640625\tTop1 Test accuracy: 33.93310546875\tTop5 test acc: 87.63671875\n",
            "Epoch 65\tTop1 Train accuracy 33.610984802246094\tTop1 Test accuracy: 34.00634765625\tTop5 test acc: 87.392578125\n",
            "Epoch 66\tTop1 Train accuracy 33.474266052246094\tTop1 Test accuracy: 34.1015625\tTop5 test acc: 87.54150390625\n",
            "Epoch 67\tTop1 Train accuracy 33.43290328979492\tTop1 Test accuracy: 34.0478515625\tTop5 test acc: 87.431640625\n",
            "Epoch 68\tTop1 Train accuracy 33.181297302246094\tTop1 Test accuracy: 33.90380859375\tTop5 test acc: 87.49267578125\n",
            "Epoch 69\tTop1 Train accuracy 33.45703125\tTop1 Test accuracy: 33.88916015625\tTop5 test acc: 87.59033203125\n",
            "Epoch 70\tTop1 Train accuracy 33.372013092041016\tTop1 Test accuracy: 34.0771484375\tTop5 test acc: 87.46337890625\n",
            "Epoch 71\tTop1 Train accuracy 33.782169342041016\tTop1 Test accuracy: 33.9697265625\tTop5 test acc: 87.39501953125\n",
            "Epoch 72\tTop1 Train accuracy 33.55009078979492\tTop1 Test accuracy: 33.99169921875\tTop5 test acc: 87.2900390625\n",
            "Epoch 73\tTop1 Train accuracy 33.51102828979492\tTop1 Test accuracy: 33.994140625\tTop5 test acc: 87.34619140625\n",
            "Epoch 74\tTop1 Train accuracy 33.59605026245117\tTop1 Test accuracy: 34.0625\tTop5 test acc: 87.3828125\n",
            "Epoch 75\tTop1 Train accuracy 33.50643539428711\tTop1 Test accuracy: 34.072265625\tTop5 test acc: 87.65380859375\n",
            "Epoch 76\tTop1 Train accuracy 33.567325592041016\tTop1 Test accuracy: 34.2333984375\tTop5 test acc: 87.1630859375\n",
            "Epoch 77\tTop1 Train accuracy 33.435203552246094\tTop1 Test accuracy: 34.0966796875\tTop5 test acc: 87.5732421875\n",
            "Epoch 78\tTop1 Train accuracy 33.76953125\tTop1 Test accuracy: 33.92578125\tTop5 test acc: 87.2021484375\n",
            "Epoch 79\tTop1 Train accuracy 33.62821578979492\tTop1 Test accuracy: 34.0625\tTop5 test acc: 87.3388671875\n",
            "Epoch 80\tTop1 Train accuracy 33.884422302246094\tTop1 Test accuracy: 33.97705078125\tTop5 test acc: 87.20703125\n",
            "Epoch 81\tTop1 Train accuracy 33.606388092041016\tTop1 Test accuracy: 33.95263671875\tTop5 test acc: 87.50732421875\n",
            "Epoch 82\tTop1 Train accuracy 33.47196578979492\tTop1 Test accuracy: 34.03076171875\tTop5 test acc: 87.626953125\n",
            "Epoch 83\tTop1 Train accuracy 33.59375\tTop1 Test accuracy: 33.935546875\tTop5 test acc: 87.5537109375\n",
            "Epoch 84\tTop1 Train accuracy 33.70174789428711\tTop1 Test accuracy: 33.85009765625\tTop5 test acc: 87.46826171875\n",
            "Epoch 85\tTop1 Train accuracy 33.684513092041016\tTop1 Test accuracy: 34.111328125\tTop5 test acc: 87.568359375\n",
            "Epoch 86\tTop1 Train accuracy 33.86259078979492\tTop1 Test accuracy: 34.189453125\tTop5 test acc: 87.5244140625\n",
            "Epoch 87\tTop1 Train accuracy 33.515625\tTop1 Test accuracy: 34.20166015625\tTop5 test acc: 87.353515625\n",
            "Epoch 88\tTop1 Train accuracy 33.47196578979492\tTop1 Test accuracy: 34.13330078125\tTop5 test acc: 87.5830078125\n",
            "Epoch 89\tTop1 Train accuracy 33.513328552246094\tTop1 Test accuracy: 34.39208984375\tTop5 test acc: 87.4267578125\n",
            "Epoch 90\tTop1 Train accuracy 33.66727828979492\tTop1 Test accuracy: 33.72802734375\tTop5 test acc: 87.40478515625\n",
            "Epoch 91\tTop1 Train accuracy 33.76493453979492\tTop1 Test accuracy: 34.1845703125\tTop5 test acc: 87.57568359375\n",
            "Epoch 92\tTop1 Train accuracy 33.76493453979492\tTop1 Test accuracy: 33.78662109375\tTop5 test acc: 87.3193359375\n",
            "Epoch 93\tTop1 Train accuracy 33.7109375\tTop1 Test accuracy: 34.0771484375\tTop5 test acc: 87.6318359375\n",
            "Epoch 94\tTop1 Train accuracy 33.32261276245117\tTop1 Test accuracy: 34.50927734375\tTop5 test acc: 87.64892578125\n",
            "Epoch 95\tTop1 Train accuracy 33.650047302246094\tTop1 Test accuracy: 34.24560546875\tTop5 test acc: 87.38525390625\n",
            "Epoch 96\tTop1 Train accuracy 33.99930953979492\tTop1 Test accuracy: 34.27001953125\tTop5 test acc: 87.53662109375\n",
            "Epoch 97\tTop1 Train accuracy 33.70634078979492\tTop1 Test accuracy: 33.93798828125\tTop5 test acc: 87.50732421875\n",
            "Epoch 98\tTop1 Train accuracy 33.70634078979492\tTop1 Test accuracy: 34.091796875\tTop5 test acc: 87.6611328125\n",
            "Epoch 99\tTop1 Train accuracy 33.45243453979492\tTop1 Test accuracy: 33.85498046875\tTop5 test acc: 87.55126953125\n"
          ]
        }
      ],
      "source": [
        "epochs = 100\n",
        "for epoch in range(epochs):\n",
        "  top1_train_accuracy = 0\n",
        "  for counter, (x_batch, y_batch) in enumerate(train_loader):\n",
        "    x_batch = x_batch.to(device)\n",
        "    y_batch = y_batch.to(device)\n",
        "\n",
        "    logits = model(x_batch)\n",
        "    loss = criterion(logits, y_batch)\n",
        "    top1 = accuracy(logits, y_batch, topk=(1,))\n",
        "    top1_train_accuracy += top1[0]\n",
        "\n",
        "    optimizer.zero_grad()\n",
        "    loss.backward()\n",
        "    optimizer.step()\n",
        "\n",
        "  top1_train_accuracy /= (counter + 1)\n",
        "  top1_accuracy = 0\n",
        "  top5_accuracy = 0\n",
        "  for counter, (x_batch, y_batch) in enumerate(test_loader):\n",
        "    x_batch = x_batch.to(device)\n",
        "    y_batch = y_batch.to(device)\n",
        "\n",
        "    logits = model(x_batch)\n",
        "  \n",
        "    top1, top5 = accuracy(logits, y_batch, topk=(1,5))\n",
        "    top1_accuracy += top1[0]\n",
        "    top5_accuracy += top5[0]\n",
        "  \n",
        "  top1_accuracy /= (counter + 1)\n",
        "  top5_accuracy /= (counter + 1)\n",
        "  print(f\"Epoch {epoch}\\tTop1 Train accuracy {top1_train_accuracy.item()}\\tTop1 Test accuracy: {top1_accuracy.item()}\\tTop5 test acc: {top5_accuracy.item()}\")"
      ]
    },
    {
      "cell_type": "code",
      "execution_count": null,
      "metadata": {
        "id": "dtYqHZirMNZk"
      },
      "outputs": [],
      "source": []
    },
    {
      "cell_type": "code",
      "execution_count": null,
      "metadata": {},
      "outputs": [],
      "source": []
    }
  ],
  "metadata": {
    "accelerator": "GPU",
    "colab": {
      "include_colab_link": true,
      "name": "Copy of mini-batch-logistic-regression-evaluator.ipynb",
      "provenance": []
    },
    "kernelspec": {
      "display_name": "env1",
      "language": "python",
      "name": "python3"
    },
    "language_info": {
      "codemirror_mode": {
        "name": "ipython",
        "version": 3
      },
      "file_extension": ".py",
      "mimetype": "text/x-python",
      "name": "python",
      "nbconvert_exporter": "python",
      "pygments_lexer": "ipython3",
      "version": "3.7.4"
    },
    "widgets": {
      "application/vnd.jupyter.widget-state+json": {
        "149b9ce8fb68473a837a77431c12281a": {
          "model_module": "@jupyter-widgets/controls",
          "model_name": "HBoxModel",
          "state": {
            "_dom_classes": [],
            "_model_module": "@jupyter-widgets/controls",
            "_model_module_version": "1.5.0",
            "_model_name": "HBoxModel",
            "_view_count": null,
            "_view_module": "@jupyter-widgets/controls",
            "_view_module_version": "1.5.0",
            "_view_name": "HBoxView",
            "box_style": "",
            "children": [
              "IPY_MODEL_a88c31d74f5c40a2b24bcff5a35d216c",
              "IPY_MODEL_60c6150177694717a622936b830427b5"
            ],
            "layout": "IPY_MODEL_88cd3db2831e4c13a4a634709700d6b2"
          }
        },
        "5901c2829a554c8ebbd5926610088041": {
          "model_module": "@jupyter-widgets/base",
          "model_name": "LayoutModel",
          "state": {
            "_model_module": "@jupyter-widgets/base",
            "_model_module_version": "1.2.0",
            "_model_name": "LayoutModel",
            "_view_count": null,
            "_view_module": "@jupyter-widgets/base",
            "_view_module_version": "1.2.0",
            "_view_name": "LayoutView",
            "align_content": null,
            "align_items": null,
            "align_self": null,
            "border": null,
            "bottom": null,
            "display": null,
            "flex": null,
            "flex_flow": null,
            "grid_area": null,
            "grid_auto_columns": null,
            "grid_auto_flow": null,
            "grid_auto_rows": null,
            "grid_column": null,
            "grid_gap": null,
            "grid_row": null,
            "grid_template_areas": null,
            "grid_template_columns": null,
            "grid_template_rows": null,
            "height": null,
            "justify_content": null,
            "justify_items": null,
            "left": null,
            "margin": null,
            "max_height": null,
            "max_width": null,
            "min_height": null,
            "min_width": null,
            "object_fit": null,
            "object_position": null,
            "order": null,
            "overflow": null,
            "overflow_x": null,
            "overflow_y": null,
            "padding": null,
            "right": null,
            "top": null,
            "visibility": null,
            "width": null
          }
        },
        "60c6150177694717a622936b830427b5": {
          "model_module": "@jupyter-widgets/controls",
          "model_name": "HTMLModel",
          "state": {
            "_dom_classes": [],
            "_model_module": "@jupyter-widgets/controls",
            "_model_module_version": "1.5.0",
            "_model_name": "HTMLModel",
            "_view_count": null,
            "_view_module": "@jupyter-widgets/controls",
            "_view_module_version": "1.5.0",
            "_view_name": "HTMLView",
            "description": "",
            "description_tooltip": null,
            "layout": "IPY_MODEL_a4f82234388e4701a02a9f68a177193a",
            "placeholder": "​",
            "style": "IPY_MODEL_957362a11d174407979cf17012bf9208",
            "value": " 2640404480/? [00:51&lt;00:00, 32685718.58it/s]"
          }
        },
        "88cd3db2831e4c13a4a634709700d6b2": {
          "model_module": "@jupyter-widgets/base",
          "model_name": "LayoutModel",
          "state": {
            "_model_module": "@jupyter-widgets/base",
            "_model_module_version": "1.2.0",
            "_model_name": "LayoutModel",
            "_view_count": null,
            "_view_module": "@jupyter-widgets/base",
            "_view_module_version": "1.2.0",
            "_view_name": "LayoutView",
            "align_content": null,
            "align_items": null,
            "align_self": null,
            "border": null,
            "bottom": null,
            "display": null,
            "flex": null,
            "flex_flow": null,
            "grid_area": null,
            "grid_auto_columns": null,
            "grid_auto_flow": null,
            "grid_auto_rows": null,
            "grid_column": null,
            "grid_gap": null,
            "grid_row": null,
            "grid_template_areas": null,
            "grid_template_columns": null,
            "grid_template_rows": null,
            "height": null,
            "justify_content": null,
            "justify_items": null,
            "left": null,
            "margin": null,
            "max_height": null,
            "max_width": null,
            "min_height": null,
            "min_width": null,
            "object_fit": null,
            "object_position": null,
            "order": null,
            "overflow": null,
            "overflow_x": null,
            "overflow_y": null,
            "padding": null,
            "right": null,
            "top": null,
            "visibility": null,
            "width": null
          }
        },
        "957362a11d174407979cf17012bf9208": {
          "model_module": "@jupyter-widgets/controls",
          "model_name": "DescriptionStyleModel",
          "state": {
            "_model_module": "@jupyter-widgets/controls",
            "_model_module_version": "1.5.0",
            "_model_name": "DescriptionStyleModel",
            "_view_count": null,
            "_view_module": "@jupyter-widgets/base",
            "_view_module_version": "1.2.0",
            "_view_name": "StyleView",
            "description_width": ""
          }
        },
        "a4f82234388e4701a02a9f68a177193a": {
          "model_module": "@jupyter-widgets/base",
          "model_name": "LayoutModel",
          "state": {
            "_model_module": "@jupyter-widgets/base",
            "_model_module_version": "1.2.0",
            "_model_name": "LayoutModel",
            "_view_count": null,
            "_view_module": "@jupyter-widgets/base",
            "_view_module_version": "1.2.0",
            "_view_name": "LayoutView",
            "align_content": null,
            "align_items": null,
            "align_self": null,
            "border": null,
            "bottom": null,
            "display": null,
            "flex": null,
            "flex_flow": null,
            "grid_area": null,
            "grid_auto_columns": null,
            "grid_auto_flow": null,
            "grid_auto_rows": null,
            "grid_column": null,
            "grid_gap": null,
            "grid_row": null,
            "grid_template_areas": null,
            "grid_template_columns": null,
            "grid_template_rows": null,
            "height": null,
            "justify_content": null,
            "justify_items": null,
            "left": null,
            "margin": null,
            "max_height": null,
            "max_width": null,
            "min_height": null,
            "min_width": null,
            "object_fit": null,
            "object_position": null,
            "order": null,
            "overflow": null,
            "overflow_x": null,
            "overflow_y": null,
            "padding": null,
            "right": null,
            "top": null,
            "visibility": null,
            "width": null
          }
        },
        "a88c31d74f5c40a2b24bcff5a35d216c": {
          "model_module": "@jupyter-widgets/controls",
          "model_name": "FloatProgressModel",
          "state": {
            "_dom_classes": [],
            "_model_module": "@jupyter-widgets/controls",
            "_model_module_version": "1.5.0",
            "_model_name": "FloatProgressModel",
            "_view_count": null,
            "_view_module": "@jupyter-widgets/controls",
            "_view_module_version": "1.5.0",
            "_view_name": "ProgressView",
            "bar_style": "info",
            "description": "",
            "description_tooltip": null,
            "layout": "IPY_MODEL_5901c2829a554c8ebbd5926610088041",
            "max": 1,
            "min": 0,
            "orientation": "horizontal",
            "style": "IPY_MODEL_dba019efadee4fdc8c799f309b9a7e70",
            "value": 1
          }
        },
        "dba019efadee4fdc8c799f309b9a7e70": {
          "model_module": "@jupyter-widgets/controls",
          "model_name": "ProgressStyleModel",
          "state": {
            "_model_module": "@jupyter-widgets/controls",
            "_model_module_version": "1.5.0",
            "_model_name": "ProgressStyleModel",
            "_view_count": null,
            "_view_module": "@jupyter-widgets/base",
            "_view_module_version": "1.2.0",
            "_view_name": "StyleView",
            "bar_color": null,
            "description_width": "initial"
          }
        }
      }
    }
  },
  "nbformat": 4,
  "nbformat_minor": 0
}
